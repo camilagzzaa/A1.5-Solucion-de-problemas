{
 "cells": [
  {
   "cell_type": "markdown",
   "id": "d108af37-deb8-4ca6-875f-9d8075bf7672",
   "metadata": {},
   "source": [
    "# Solución de problemas - Predicción de calificaciones\n",
    "## Camila Johana González Acosta 599303\n",
    "\n",
    "En esta actividad trabajamos con la base de datos de calificaciones de estudiantes.  \n",
    "El objetivo es predecir la calificación final a partir de variables demográficas y académicas."
   ]
  },
  {
   "cell_type": "markdown",
   "id": "5bfa429b-2f73-4046-994a-dbffec917c63",
   "metadata": {},
   "source": [
    "## 1. Importar los datos y mostrar tipos de variables"
   ]
  },
  {
   "cell_type": "code",
   "execution_count": 2,
   "id": "40640d62-0e75-4af3-aaee-23ae1ea66d77",
   "metadata": {},
   "outputs": [
    {
     "name": "stdout",
     "output_type": "stream",
     "text": [
      "Escuela           object\n",
      "Sexo              object\n",
      "Edad               int64\n",
      "HorasDeEstudio     int64\n",
      "Reprobadas         int64\n",
      "Internet          object\n",
      "Faltas             int64\n",
      "G1                 int64\n",
      "G2                 int64\n",
      "G3                 int64\n",
      "dtype: object\n"
     ]
    }
   ],
   "source": [
    "import pandas as pd\n",
    "import numpy as np\n",
    "import matplotlib.pyplot as plt\n",
    "\n",
    "calif = pd.read_csv(\"A1.5 Calificaciones.csv\")\n",
    "\n",
    "# Mostramos los tipos de datos de cada variable\n",
    "print(calif.dtypes)"
   ]
  },
  {
   "cell_type": "markdown",
   "id": "1614c419-0e02-4895-922b-775a85812f29",
   "metadata": {},
   "source": [
    "## 2. Transformar variables categóricas\n",
    "\n",
    "Transformamos las variables cualitativas en variables numéricas con `pd.get_dummies`.  \n",
    "Así podremos usarlas en el modelo de regresión lineal múltiple.\n"
   ]
  },
  {
   "cell_type": "code",
   "execution_count": 3,
   "id": "b7a55260-651f-4931-a894-4435dab9cc4e",
   "metadata": {},
   "outputs": [
    {
     "name": "stdout",
     "output_type": "stream",
     "text": [
      "   Edad  HorasDeEstudio  Reprobadas  Faltas  G1  G2  G3  Escuela_MS  Sexo_M  \\\n",
      "0    18               2           0       6   5   6   6       False   False   \n",
      "1    17               2           0       4   5   5   6       False   False   \n",
      "2    15               2           3      10   7   8  10       False   False   \n",
      "3    15               3           0       2  15  14  15       False   False   \n",
      "4    16               2           0       4   6  10  10       False   False   \n",
      "\n",
      "   Internet_yes  \n",
      "0         False  \n",
      "1          True  \n",
      "2          True  \n",
      "3          True  \n",
      "4         False  \n"
     ]
    }
   ],
   "source": [
    "calif_mod = pd.get_dummies(calif, drop_first=True)\n",
    "print(calif_mod.head())"
   ]
  },
  {
   "cell_type": "markdown",
   "id": "28fdf5b9-ef42-482a-97a9-031edca2f6cb",
   "metadata": {},
   "source": [
    "## 3. Identificar valores atípicos en Faltas con el método de Tukey (k=3)\n",
    "\n",
    "Se calculan los límites inferior y superior y se detectan los outliers.  \n",
    "Después se eliminan para no afectar al modelo."
   ]
  },
  {
   "cell_type": "code",
   "execution_count": 4,
   "id": "e167bf37-b4ce-42bc-a067-90c1823251e5",
   "metadata": {},
   "outputs": [
    {
     "name": "stdout",
     "output_type": "stream",
     "text": [
      "Valores atípicos en Faltas:\n",
      "     Edad  HorasDeEstudio  Reprobadas  Faltas  G1  G2  G3  Escuela_MS  Sexo_M  \\\n",
      "74     16               2           0      54  11  12  11       False   False   \n",
      "183    17               2           0      56   9   9   8       False   False   \n",
      "276    18               2           0      75  10   9   9       False   False   \n",
      "307    19               1           1      38   8   9   8       False    True   \n",
      "315    19               3           1      40  13  11  11       False   False   \n",
      "\n",
      "     Internet_yes  \n",
      "74           True  \n",
      "183          True  \n",
      "276          True  \n",
      "307          True  \n",
      "315          True  \n"
     ]
    }
   ],
   "source": [
    "q1 = calif_mod['Faltas'].quantile(0.25)\n",
    "q3 = calif_mod['Faltas'].quantile(0.75)\n",
    "iqr = q3 - q1\n",
    "\n",
    "lim_inf = q1 - 3*iqr\n",
    "lim_sup = q3 + 3*iqr\n",
    "\n",
    "outliers = calif_mod[(calif_mod['Faltas'] < lim_inf) | (calif_mod['Faltas'] > lim_sup)]\n",
    "print(\"Valores atípicos en Faltas:\")\n",
    "print(outliers)\n",
    "\n",
    "# Eliminamos outliers\n",
    "calif_mod = calif_mod[(calif_mod['Faltas'] >= lim_inf) & (calif_mod['Faltas'] <= lim_sup)]\n"
   ]
  },
  {
   "cell_type": "markdown",
   "id": "179568d9-da6e-41cb-8c7b-1e2872575d24",
   "metadata": {},
   "source": [
    "## 4. Matriz de correlaciones y heatmap\n",
    "\n",
    "Se calcula la matriz de correlación para revisar posibles problemas de colinealidad.  \n",
    "Luego se muestra un mapa de calor sencillo."
   ]
  },
  {
   "cell_type": "code",
   "execution_count": 5,
   "id": "c59d910b-35f8-4bd3-acc9-2802b2a8298c",
   "metadata": {},
   "outputs": [
    {
     "name": "stdout",
     "output_type": "stream",
     "text": [
      "                    Edad  HorasDeEstudio  Reprobadas    Faltas        G1  \\\n",
      "Edad            1.000000       -0.003722    0.239359  0.165289 -0.062587   \n",
      "HorasDeEstudio -0.003722        1.000000   -0.174636 -0.083602  0.156821   \n",
      "Reprobadas      0.239359       -0.174636    1.000000  0.095153 -0.356805   \n",
      "Faltas          0.165289       -0.083602    0.095153  1.000000 -0.019258   \n",
      "G1             -0.062587        0.156821   -0.356805 -0.019258  1.000000   \n",
      "G2             -0.141346        0.134785   -0.357020 -0.021735  0.852483   \n",
      "G3             -0.160187        0.096151   -0.361642  0.071524  0.801391   \n",
      "Escuela_MS      0.385884       -0.091285    0.060437 -0.084612 -0.026802   \n",
      "Sexo_M         -0.027746       -0.303429    0.041325 -0.022958  0.094458   \n",
      "Internet_yes   -0.118421        0.059959   -0.064223  0.094114  0.073087   \n",
      "\n",
      "                      G2        G3  Escuela_MS    Sexo_M  Internet_yes  \n",
      "Edad           -0.141346 -0.160187    0.385884 -0.027746     -0.118421  \n",
      "HorasDeEstudio  0.134785  0.096151   -0.091285 -0.303429      0.059959  \n",
      "Reprobadas     -0.357020 -0.361642    0.060437  0.041325     -0.064223  \n",
      "Faltas         -0.021735  0.071524   -0.084612 -0.022958      0.094114  \n",
      "G1              0.852483  0.801391   -0.026802  0.094458      0.073087  \n",
      "G2              1.000000  0.904797   -0.051062  0.091752      0.120800  \n",
      "G3              0.904797  1.000000   -0.046129  0.104165      0.099973  \n",
      "Escuela_MS     -0.051062 -0.046129    1.000000 -0.014937     -0.131774  \n",
      "Sexo_M          0.091752  0.104165   -0.014937  1.000000      0.047604  \n",
      "Internet_yes    0.120800  0.099973   -0.131774  0.047604      1.000000  \n"
     ]
    },
    {
     "data": {
      "image/png": "[encoded data removed]",
      "text/plain": [
       "<Figure size 480x480 with 2 Axes>"
      ]
     },
     "metadata": {},
     "output_type": "display_data"
    }
   ],
   "source": [
    "corr = calif_mod.corr()\n",
    "print(corr)\n",
    "\n",
    "plt.matshow(corr)\n",
    "plt.title(\"Matriz de correlaciones\")\n",
    "plt.colorbar()\n",
    "plt.show()"
   ]
  },
  {
   "cell_type": "markdown",
   "id": "1f7f1693-1010-4b4a-b19c-4e2dcda0b0b9",
   "metadata": {},
   "source": [
    "## 5. Crear términos de interacción\n",
    "\n",
    "Agregamos interacciones entre dos pares de variables:\n",
    "- `G1 * G2`\n",
    "- `Edad * HorasDeEstudio`\n"
   ]
  },
  {
   "cell_type": "code",
   "execution_count": 6,
   "id": "1e53276a-bf53-4cd7-82ce-d989d28b5806",
   "metadata": {},
   "outputs": [
    {
     "name": "stdout",
     "output_type": "stream",
     "text": [
      "   Edad  HorasDeEstudio  Reprobadas  Faltas  G1  G2  G3  Escuela_MS  Sexo_M  \\\n",
      "0    18               2           0       6   5   6   6       False   False   \n",
      "1    17               2           0       4   5   5   6       False   False   \n",
      "2    15               2           3      10   7   8  10       False   False   \n",
      "3    15               3           0       2  15  14  15       False   False   \n",
      "4    16               2           0       4   6  10  10       False   False   \n",
      "\n",
      "   Internet_yes  G1_G2  Edad_HorasEstudio  \n",
      "0         False     30                 36  \n",
      "1          True     25                 34  \n",
      "2          True     56                 30  \n",
      "3          True    210                 45  \n",
      "4         False     60                 32  \n"
     ]
    }
   ],
   "source": [
    "calif_mod['G1_G2'] = calif_mod['G1'] * calif_mod['G2']\n",
    "calif_mod['Edad_HorasEstudio'] = calif_mod['Edad'] * calif_mod['HorasDeEstudio']\n",
    "print(calif_mod.head())"
   ]
  },
  {
   "cell_type": "markdown",
   "id": "12d3ca05-67e8-438a-a363-54bb9b39b0ba",
   "metadata": {},
   "source": [
    "## 6. Entrenar modelo de regresión lineal múltiple\n",
    "\n",
    "Se divide la base en 80% entrenamiento y 20% prueba.  \n",
    "El modelo se entrena con la fórmula matricial:  \n",
    "\n"
   ]
  },
  {
   "cell_type": "code",
   "execution_count": 11,
   "id": "ea36f392-fc9b-4905-bf25-4176d418eb92",
   "metadata": {},
   "outputs": [
    {
     "name": "stdout",
     "output_type": "stream",
     "text": [
      "Coeficientes del modelo:\n",
      "Edad                -0.096482\n",
      "HorasDeEstudio       0.474845\n",
      "Reprobadas          -0.295996\n",
      "Faltas               0.066934\n",
      "G1                   0.187039\n",
      "G2                    0.99258\n",
      "Escuela_MS                0.0\n",
      "Sexo_M               0.092423\n",
      "Internet_yes        -0.322956\n",
      "G1_G2               -0.003769\n",
      "Edad_HorasEstudio   -0.037441\n",
      "const                0.170213\n",
      "dtype: object\n",
      "\n",
      "Fórmula del modelo (como en la PPT):\n",
      "G3 = -0.096*Edad + 0.475*HorasDeEstudio - 0.296*Reprobadas + 0.067*Faltas + 0.187*G1 + 0.993*G2 + 0.000*Escuela_MS + 0.092*Sexo_M - 0.323*Internet_yes - 0.004*G1_G2 - 0.037*Edad_HorasEstudio + 0.170*const\n"
     ]
    },
    {
     "data": {
      "image/png": "[encoded data removed]",
      "text/plain": [
       "<Figure size 640x480 with 1 Axes>"
      ]
     },
     "metadata": {},
     "output_type": "display_data"
    },
    {
     "name": "stdout",
     "output_type": "stream",
     "text": [
      "Si los puntos están cerca de la línea roja, el modelo logra buenas predicciones.\n"
     ]
    }
   ],
   "source": [
    "X = calif_mod.drop('G3', axis=1)\n",
    "y = calif_mod['G3']\n",
    "\n",
    "X = X.copy()\n",
    "X['const'] = 1\n",
    "\n",
    "# Split 80/20\n",
    "n = len(X)\n",
    "n_train = int(n * 0.8)\n",
    "X_train = X.iloc[:n_train]\n",
    "y_train = y.iloc[:n_train]\n",
    "X_test = X.iloc[n_train:]\n",
    "y_test = y.iloc[n_train:]\n",
    "\n",
    "XtX = X_train.T.dot(X_train)\n",
    "\n",
    "# pseudo-inversa en lugar de inversa\n",
    "XtX_inv = pd.DataFrame(\n",
    "    np.linalg.pinv(XtX.astype(float).values),\n",
    "    XtX.columns,\n",
    "    XtX.columns\n",
    ")\n",
    "\n",
    "XtY = X_train.T.dot(y_train)\n",
    "betas = XtX_inv.dot(XtY)\n",
    "\n",
    "print(\"Coeficientes del modelo:\")\n",
    "print(betas)\n",
    "\n",
    "formula = \"G3 = \"\n",
    "for i, coef in enumerate(betas):\n",
    "    if i == 0:\n",
    "        formula += f\"{coef:.3f}*{betas.index[i]}\"\n",
    "    else:\n",
    "        sign = \"+\" if coef >= 0 else \"-\"\n",
    "        formula += f\" {sign} {abs(coef):.3f}*{betas.index[i]}\"\n",
    "print(\"\\nFórmula del modelo (como en la PPT):\")\n",
    "print(formula)\n",
    "\n",
    "\n",
    "# Predicciones en datos de prueba\n",
    "y_pred = X_test.dot(betas)\n",
    "\n",
    "# Gráfica real vs estimado\n",
    "plt.scatter(y_test, y_pred)\n",
    "plt.xlabel(\"Calificación real G3\")\n",
    "plt.ylabel(\"Calificación estimada G3\")\n",
    "plt.title(\"Valores reales vs estimados (datos de prueba)\")\n",
    "plt.plot([0,20],[0,20], color='red')\n",
    "plt.show()\n",
    "\n",
    "print(\"Si los puntos están cerca de la línea roja, el modelo logra buenas predicciones.\")\n"
   ]
  },
  {
   "cell_type": "markdown",
   "id": "2f78e970-9a84-45b2-a43a-3c45ae21923b",
   "metadata": {},
   "source": [
    "Conclusión: El modelo logra capturar bastante bien la relación entre las variables y la calificación final (G3). La mayoría de los puntos se concentran cerca de la diagonal roja, lo que indica que las predicciones son razonablemente acertadas, especialmente para calificaciones medias y altas. Sin embargo, se observan errores mayores en el rango de calificaciones muy bajas."
   ]
  },
  {
   "cell_type": "code",
   "execution_count": null,
   "id": "b5a3215a-b6a4-481e-ae64-99f219a115a5",
   "metadata": {},
   "outputs": [],
   "source": []
  }
 ],
 "metadata": {
  "kernelspec": {
   "display_name": "Python 3 (ipykernel)",
   "language": "python",
   "name": "python3"
  },
  "language_info": {
   "codemirror_mode": {
    "name": "ipython",
    "version": 3
   },
   "file_extension": ".py",
   "mimetype": "text/x-python",
   "name": "python",
   "nbconvert_exporter": "python",
   "pygments_lexer": "ipython3",
   "version": "3.12.6"
  }
 },
 "nbformat": 4,
 "nbformat_minor": 5
}
